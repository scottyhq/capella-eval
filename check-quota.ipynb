{
 "cells": [
  {
   "cell_type": "markdown",
   "id": "e00c8369-3472-491a-a725-20b74b7eaa18",
   "metadata": {},
   "source": [
    "# Summarize tasking requests\n",
    "\n",
    "NASA CSDAP Assigned per-user quotas that are not tracked by Capella. This notebook summarizes individual orders and deducts from an assigned quota to keep track"
   ]
  },
  {
   "cell_type": "code",
   "execution_count": 1,
   "id": "10503656-7a3c-41a7-bd5d-d0d26c52e1bb",
   "metadata": {},
   "outputs": [],
   "source": [
    "# Keep track of module versions\n",
    "#%pip install watermark\n",
    "%load_ext watermark"
   ]
  },
  {
   "cell_type": "code",
   "execution_count": 2,
   "id": "2d955613-ec8b-4caa-96d4-5b65c51e75ea",
   "metadata": {},
   "outputs": [],
   "source": [
    "import capella_console_client\n",
    "import geopandas as gpd\n",
    "import pandas as pd\n",
    "import json"
   ]
  },
  {
   "cell_type": "code",
   "execution_count": 3,
   "id": "b7c6eb44-5360-4ba0-951c-b42f4c840a91",
   "metadata": {},
   "outputs": [
    {
     "name": "stdout",
     "output_type": "stream",
     "text": [
      "capella_console_client: 0.10.3\n",
      "json                  : 2.0.9\n",
      "pandas                : 2.0.3\n",
      "IPython               : 8.14.0\n",
      "geopandas             : 0.13.2\n",
      "\n"
     ]
    }
   ],
   "source": [
    "%watermark -iv"
   ]
  },
  {
   "cell_type": "code",
   "execution_count": 4,
   "id": "589eecf9-0ec8-4f7b-8f78-93209571e580",
   "metadata": {},
   "outputs": [],
   "source": [
    "with open('/home/jovyan/capella/credentials.json') as f: # USER: Input path to credentials.json file.\n",
    "    data = json.load(f)\n",
    "    username = data['username']\n",
    "    password = data['password']\n",
    "\n",
    "client =  capella_console_client.CapellaConsoleClient(username, password)"
   ]
  },
  {
   "cell_type": "code",
   "execution_count": 5,
   "id": "97c633f3-e84e-46fa-ac31-c74438575b55",
   "metadata": {},
   "outputs": [
    {
     "data": {
      "text/plain": [
       "collect_mode  collectionTier\n",
       "spotlight     1_day             30\n",
       "site          1_day             30\n",
       "stripmap      1_day             30\n",
       "dtype: int64"
      ]
     },
     "execution_count": 5,
     "metadata": {},
     "output_type": "execute_result"
    }
   ],
   "source": [
    "# QUOTA\n",
    "mindex = pd.MultiIndex.from_tuples([('spotlight', '1_day'),\n",
    "                                    ('site', '1_day'),\n",
    "                                    ('stripmap', '1_day')],\n",
    "                                   names=['collect_mode', 'collectionTier'])\n",
    "\n",
    "quota = pd.Series([30,30,30],index=mindex)\n",
    "quota"
   ]
  },
  {
   "cell_type": "code",
   "execution_count": 6,
   "id": "5bbdf9d9-1233-4e10-a121-10ed4d04a129",
   "metadata": {},
   "outputs": [],
   "source": [
    "gf = gpd.GeoDataFrame.from_features(client.list_tasking_requests())"
   ]
  },
  {
   "cell_type": "code",
   "execution_count": 7,
   "id": "82612fab-6a23-4c18-9bf8-0c19c91d75ec",
   "metadata": {},
   "outputs": [
    {
     "name": "stdout",
     "output_type": "stream",
     "text": [
      "Total Requests: 39\n"
     ]
    }
   ],
   "source": [
    "total_requests = len(gf)\n",
    "print('Total Requests:', total_requests)"
   ]
  },
  {
   "cell_type": "code",
   "execution_count": 8,
   "id": "76d73790-bb67-4feb-8f16-36ba356d6fb5",
   "metadata": {},
   "outputs": [],
   "source": [
    "# Remove cancelled orders\n",
    "gf['final_status'] = gf['statusHistory'].apply(lambda x: x[0]['code'])"
   ]
  },
  {
   "cell_type": "code",
   "execution_count": 9,
   "id": "4a9e251a-6cef-4d28-ad21-5cdb647e17a9",
   "metadata": {},
   "outputs": [
    {
     "name": "stdout",
     "output_type": "stream",
     "text": [
      "Cancelled: 11\n"
     ]
    }
   ],
   "source": [
    "print('Cancelled:', (gf.final_status == 'canceled').sum())"
   ]
  },
  {
   "cell_type": "code",
   "execution_count": 10,
   "id": "3512cb63-da17-48eb-97b9-3c46362971e1",
   "metadata": {},
   "outputs": [
    {
     "data": {
      "text/plain": [
       "final_status\n",
       "completed    14\n",
       "rejected     12\n",
       "canceled     11\n",
       "anomaly       1\n",
       "review        1\n",
       "Name: count, dtype: int64"
      ]
     },
     "execution_count": 10,
     "metadata": {},
     "output_type": "execute_result"
    }
   ],
   "source": [
    "gf.final_status.value_counts()"
   ]
  },
  {
   "cell_type": "code",
   "execution_count": 11,
   "id": "34fbf009-35e3-444f-8a3f-a48606819b2a",
   "metadata": {},
   "outputs": [],
   "source": [
    "gf['collect_mode'] = gf['collectConstraints'].str['collectMode']"
   ]
  },
  {
   "cell_type": "code",
   "execution_count": 12,
   "id": "d8ca7336-0450-4be5-9990-4386fcd073dc",
   "metadata": {},
   "outputs": [
    {
     "data": {
      "text/plain": [
       "collect_mode  collectionTier\n",
       "spotlight     1_day             8\n",
       "              background        1\n",
       "stripmap      1_day             5\n",
       "Name: geometry, dtype: int64"
      ]
     },
     "execution_count": 12,
     "metadata": {},
     "output_type": "execute_result"
    }
   ],
   "source": [
    "# Only completed requests are counted\n",
    "completed = gf[gf.final_status == 'completed']\n",
    "result = completed.groupby(['collect_mode', 'collectionTier'])['geometry'].count()\n",
    "result"
   ]
  },
  {
   "cell_type": "code",
   "execution_count": 13,
   "id": "bc03deb1-c63c-4bca-a8c7-00871e1cbb79",
   "metadata": {},
   "outputs": [
    {
     "data": {
      "text/plain": [
       "collect_mode  collectionTier\n",
       "site          1_day              NaN\n",
       "spotlight     1_day             22.0\n",
       "              background         NaN\n",
       "stripmap      1_day             25.0\n",
       "dtype: float64"
      ]
     },
     "execution_count": 13,
     "metadata": {},
     "output_type": "execute_result"
    }
   ],
   "source": [
    "# REMAINING\n",
    "quota - result"
   ]
  },
  {
   "cell_type": "code",
   "execution_count": null,
   "id": "f27863c7-f6c6-4795-b69e-9983beacb887",
   "metadata": {},
   "outputs": [],
   "source": []
  }
 ],
 "metadata": {
  "kernelspec": {
   "display_name": "Python [conda env:.local-capella]",
   "language": "python",
   "name": "conda-env-.local-capella-py"
  },
  "language_info": {
   "codemirror_mode": {
    "name": "ipython",
    "version": 3
   },
   "file_extension": ".py",
   "mimetype": "text/x-python",
   "name": "python",
   "nbconvert_exporter": "python",
   "pygments_lexer": "ipython3",
   "version": "3.11.4"
  }
 },
 "nbformat": 4,
 "nbformat_minor": 5
}
