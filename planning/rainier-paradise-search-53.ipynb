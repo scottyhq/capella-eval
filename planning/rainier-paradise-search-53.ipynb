{
 "cells": [
  {
   "cell_type": "markdown",
   "id": "825268bb-7d54-4e1a-a989-f44684b5c313",
   "metadata": {},
   "source": [
    "# How do acquisitions change over the next 3 months?\n",
    "\n",
    "- local time of acquisition\n",
    "- incidence angle"
   ]
  },
  {
   "cell_type": "code",
   "execution_count": null,
   "id": "0fd9421b-2d0d-4a5a-95ea-b02168bb1baf",
   "metadata": {},
   "outputs": [],
   "source": [
    "import geopandas as gpd\n",
    "import requests\n",
    "import json\n",
    "import csv\n",
    "import os\n",
    "import datetime\n",
    "import pandas as pd\n",
    "\n",
    "import xyzservices\n",
    "\n",
    "# Helper function to printformatted JSON using the json module\n",
    "def p(data):\n",
    "    print(json.dumps(data, indent=2))"
   ]
  },
  {
   "cell_type": "code",
   "execution_count": null,
   "id": "2beec454-1821-410b-b847-09c1d65dac65",
   "metadata": {},
   "outputs": [],
   "source": [
    "with open('/home/jovyan/capella/credentials.json') as f: # USER: Input path to credentials.json file.\n",
    "    data = json.load(f)\n",
    "    username = data['username']\n",
    "    password = data['password']"
   ]
  },
  {
   "cell_type": "code",
   "execution_count": null,
   "id": "786186cd-14af-4785-a85a-41a67a4326e5",
   "metadata": {},
   "outputs": [],
   "source": [
    "# Get a valid token from the auth service\n",
    "r = requests.post(\"https://api.capellaspace.com/token\", \n",
    "                  headers = {'Content-Type': 'application/x-www-form-urlencoded'}, auth=(username,password))\n",
    "access_token = r.json()[\"accessToken\"]\n",
    "# p(accessToken)\n",
    "\n",
    "# GET user ID and org ID\n",
    "headers = {'Authorization':'Bearer ' + access_token}\n",
    "r = requests.get(\"https://api.capellaspace.com/user\", headers=headers)\n",
    "user_id = r.json()[\"id\"]\n",
    "org_id = r.json()[\"organizationId\"]\n",
    "#p(r.json())\n",
    "\n",
    "# Print user and org ID\n",
    "print('User email: ', r.json()['email'], '\\nOrganization: ', r.json()['organization']['name'], '\\nEnvironment: ', r.json()['apiEnvironmentRole'])"
   ]
  },
  {
   "cell_type": "code",
   "execution_count": null,
   "id": "99d8525f-8c4e-4fea-ad2a-507728659734",
   "metadata": {},
   "outputs": [],
   "source": [
    "# NOTE: use 3D coordinates for rugged terrain / volcanoes\n",
    "point = {'type': 'FeatureCollection',\n",
    " 'features': [{'type': 'Feature',\n",
    "   'properties': {},\n",
    "   'geometry': {'type': 'Point',\n",
    "    'coordinates': (-121.744564, 46.796787, 1589.0)}}]}"
   ]
  },
  {
   "cell_type": "code",
   "execution_count": null,
   "id": "4ad54c6f-2a86-458b-b5de-8743bfbf70a0",
   "metadata": {},
   "outputs": [],
   "source": [
    "aoi_geom = point['features'][0]['geometry']\n",
    "aoi_geom"
   ]
  },
  {
   "cell_type": "code",
   "execution_count": null,
   "id": "056b3b5e-5b50-4f4c-bddd-65670ccfd390",
   "metadata": {},
   "outputs": [],
   "source": [
    "# Name and description\n",
    "request_name = 'Rainier - Paradise - Spot - repeat daily' # USER: Set the name of the request.\n",
    "request_description = 'Mt. Rainier Paradise repeatdaily' # USER: Set a description for the request.\n",
    "\n",
    "#NOTES\n",
    "orbital_plane = [53] # options: 45, 53, 97 # only 97 will have polar coverage\n",
    "orbit_state = \"either\" # options: ascending, descending, either\n",
    "look_direction = \"either\" # options: left, right, either\n",
    "look_angle_min = 25 # full: 5, extended: 15, standard: 25\n",
    "look_angle_max = 50 # max: 50\n",
    "\n",
    "# Footprint size guidelines:\n",
    "# - Spotlight: length = 5000, width = 5000\n",
    "# - Sliding Spotlight: length = 10000, width = 5000\n",
    "# - Stripmap: length = 20000, width = 5000-10000\n",
    "\n",
    "# STRIP\n",
    "img_width = 5000 # in meters\n",
    "img_length = 20000 # in meters\n",
    "\n",
    "# SLIDE\n",
    "#img_width = 5000 # in meters\n",
    "#img_length = 10000 # in meters\n",
    "\n",
    "# SPOT\n",
    "#img_width = 5000 # in meters\n",
    "#img_length = 5000 # in meters"
   ]
  },
  {
   "cell_type": "code",
   "execution_count": null,
   "id": "651c6e59-17c5-4e02-9173-885b9c8fc083",
   "metadata": {},
   "outputs": [],
   "source": [
    "def submit_request(start_date=datetime.datetime.utcnow(), end_date=None):\n",
    "    ''' get access estimated for start+30 days'''\n",
    "    # Access request window\n",
    "    # Default: 30-day window starting at current UTC date/time\n",
    "    # MAX 90-days out\n",
    "    ts90 = pd.Timestamp.today('UTC') + pd.Timedelta('89D')\n",
    "\n",
    "    if end_date == None:\n",
    "        end_date = start_date + datetime.timedelta(days = 30) # 31 days or less!!!\n",
    "    elif end_date >= ts90:\n",
    "        print('setting max window close (today + 90 days)')\n",
    "        end_date = ts90\n",
    "\n",
    "    # USER: To change the window from the default, uncomment and set the start_date and end_date for your desired window in UTC in YYYY,M,D format.\n",
    "    # start_date = datetime.date(YYYY,M,D)\n",
    "    # end_date = datetime.date(YYYY,M,D)\n",
    "    window_open = start_date.strftime(\"%Y-%m-%dT%H:%M:%SZ\") # format start date\n",
    "    window_close = end_date.strftime(\"%Y-%m-%dT%H:%M:%SZ\") # format end date\n",
    "    print(f'Searching {window_open} To {window_close}')\n",
    "    \n",
    "    # Define access request\n",
    "    access_request = {\n",
    "        \"geometry\": aoi_geom,\n",
    "        \"properties\": {\n",
    "          \"userId\": user_id,\n",
    "          \"orgId\": org_id,\n",
    "          \"accessrequestDescription\": request_description,\n",
    "          \"accessrequestName\": request_name,\n",
    "          \"windowOpen\": window_open,\n",
    "          \"windowClose\": window_close,\n",
    "          \"accessConstraints\": {\n",
    "              \"ascDsc\": orbit_state,\n",
    "              \"lookDirection\": look_direction,\n",
    "              \"orbitalPlanes\": orbital_plane,\n",
    "              \"offNadirMin\": look_angle_min,\n",
    "              \"offNadirMax\": look_angle_max, #offNadirMax #seems possibly stuck on 40?\n",
    "              \"imageWidth\": img_width,\n",
    "              \"imageLength\": img_length\n",
    "          }\n",
    "        },\n",
    "        \"type\": \"Feature\"\n",
    "    }\n",
    "\n",
    "    # POST request\n",
    "    headers = {'Authorization':'Bearer ' + access_token}\n",
    "    r = requests.post(\"https://api.capellaspace.com/ma/accessrequests/\", json = access_request, headers = headers)\n",
    "    #p(r.json())\n",
    "    return r"
   ]
  },
  {
   "cell_type": "code",
   "execution_count": null,
   "id": "d84fe81d-d001-40f3-a0eb-4d8d64f85fe0",
   "metadata": {},
   "outputs": [],
   "source": [
    "r1 = submit_request()"
   ]
  },
  {
   "cell_type": "code",
   "execution_count": null,
   "id": "6ad4c8b0-9aad-49e2-b36a-bdff7a5afcb7",
   "metadata": {},
   "outputs": [],
   "source": [
    "# Results retrieved via access request ID:\n",
    "ar_id = r1.json()['properties']['accessrequestId']\n",
    "ar_id"
   ]
  },
  {
   "cell_type": "code",
   "execution_count": null,
   "id": "a6333032-cacb-480e-9409-6cf089ec05ef",
   "metadata": {},
   "outputs": [],
   "source": [
    "# Check after a bit\n",
    "status = requests.get(\"https://api.capellaspace.com/ma/accessrequests/\" + ar_id, headers = headers)\n",
    "status.json() # See processing: 'completed'"
   ]
  },
  {
   "cell_type": "code",
   "execution_count": null,
   "id": "a3dccd44-dc04-4908-9487-73198e2b224f",
   "metadata": {},
   "outputs": [],
   "source": [
    "# GET access requests\n",
    "results = requests.get(\"https://api.capellaspace.com/ma/accesses/\" + ar_id, headers=headers)\n",
    "\n",
    "# View requests as table\n",
    "df1 = pd.json_normalize(results.json())\n",
    "col_interest = ['spacecraftId', 'windowOpen', 'windowClose', 'orbitalPlane', 'accessProperties.ascdsc', \n",
    "                'accessProperties.lookDirection', 'accessProperties.offNadirMin']\n",
    "\n",
    "#access_df # Uncomment to view full table of access requests\n",
    "print('Number of possible acquisitions:', len(df1))\n",
    "df1[col_interest].head(10) # Uncomment to view access requests only with columns of interest"
   ]
  },
  {
   "cell_type": "code",
   "execution_count": null,
   "id": "83bff8bd-e551-4c37-8e84-5c979723a2d1",
   "metadata": {},
   "outputs": [],
   "source": [
    "tmp = df.sort_values('windowOpen')#.reset_index(drop=True)\n",
    "print(tmp.windowOpen.iloc[0])\n",
    "print(tmp.windowOpen.iloc[-1])\n",
    "tmp.to_csv('access_30.csv', index=False) #unnamed??\n",
    "#tmp.tail()"
   ]
  },
  {
   "cell_type": "code",
   "execution_count": null,
   "id": "89bc0318-eb63-40f0-b624-36b70026f632",
   "metadata": {},
   "outputs": [],
   "source": [
    "df = pd.read_csv('access_30.csv')\n",
    "df.windowOpen.iloc[-1] #windowClose': '2023-12-11T05:29:26.000Z', NOTE access request"
   ]
  },
  {
   "cell_type": "code",
   "execution_count": null,
   "id": "66a6b8f5-0488-4226-b285-12088be001ce",
   "metadata": {},
   "outputs": [],
   "source": [
    "import time"
   ]
  },
  {
   "cell_type": "code",
   "execution_count": null,
   "id": "801284f6-d686-43c6-a015-d1b1608e6a6f",
   "metadata": {},
   "outputs": [],
   "source": [
    "# Another request 30 days from last date\n",
    "start = pd.to_datetime(df1.windowOpen.iloc[-1]) + datetime.timedelta(hours = 1)\n",
    "r = submit_request(start_date=start)\n",
    "time.sleep(5) #takes a little time to post\n",
    "# Results retrieved via access request ID:\n",
    "ar_id2 = r.json()['properties']['accessrequestId']\n",
    "print(ar_id2)\n",
    "results = requests.get(\"https://api.capellaspace.com/ma/accesses/\" + ar_id2, headers=headers)\n",
    "\n",
    "# View requests as table\n",
    "df2 = pd.json_normalize(results.json())\n",
    "df2.head()"
   ]
  },
  {
   "cell_type": "code",
   "execution_count": null,
   "id": "4ae6f54e-c699-42aa-86b2-183829757daa",
   "metadata": {},
   "outputs": [],
   "source": [
    "len(df2)"
   ]
  },
  {
   "cell_type": "code",
   "execution_count": null,
   "id": "2727dcf4-8507-4b93-ad0a-f9c061955ae3",
   "metadata": {},
   "outputs": [],
   "source": [
    "tmp = df2.sort_values('windowOpen')#.reset_index(drop=True)\n",
    "print(tmp.windowOpen.iloc[0])\n",
    "print(tmp.windowOpen.iloc[-1])"
   ]
  },
  {
   "cell_type": "code",
   "execution_count": null,
   "id": "73966b8b-d621-464a-89c2-eb44edb185fb",
   "metadata": {},
   "outputs": [],
   "source": [
    "tmp.to_csv('access_60.csv', index=False)"
   ]
  },
  {
   "cell_type": "code",
   "execution_count": null,
   "id": "c62103ff-81c0-4cc2-9f18-af1c8c89ced0",
   "metadata": {},
   "outputs": [],
   "source": [
    "# Another request 30 days from last date\n",
    "start = pd.to_datetime(df2.windowOpen.iloc[-1]) + datetime.timedelta(hours = 1)\n",
    "r = submit_request(start_date=start)\n",
    "time.sleep(5) #takes a little time to post\n",
    "# Results retrieved via access request ID:\n",
    "ar_id3 = r.json()['properties']['accessrequestId']\n",
    "print(ar_id3)\n",
    "results = requests.get(\"https://api.capellaspace.com/ma/accesses/\" + ar_id3, headers=headers)\n",
    "\n",
    "# View requests as table\n",
    "df3 = pd.json_normalize(results.json())\n",
    "df3.head()"
   ]
  },
  {
   "cell_type": "code",
   "execution_count": null,
   "id": "e486c887-2a80-4417-97b4-091404b5ea38",
   "metadata": {},
   "outputs": [],
   "source": [
    "len(df3)"
   ]
  },
  {
   "cell_type": "code",
   "execution_count": null,
   "id": "151b5c17-3b1e-405c-97a4-32afea0fb070",
   "metadata": {},
   "outputs": [],
   "source": [
    "tmp = df3.sort_values('windowOpen')#.reset_index(drop=True)\n",
    "print(tmp.windowOpen.iloc[0])\n",
    "print(tmp.windowOpen.iloc[-1])"
   ]
  },
  {
   "cell_type": "code",
   "execution_count": null,
   "id": "135658bc-be24-4243-9742-5ff5a56f7f0d",
   "metadata": {},
   "outputs": [],
   "source": [
    "tmp.to_csv('access_90.csv', index=False)"
   ]
  },
  {
   "cell_type": "code",
   "execution_count": null,
   "id": "b4ce5ba9-a28d-4c98-8040-3b635605b469",
   "metadata": {},
   "outputs": [],
   "source": [
    "pd.to_datetime(tmp.windowOpen.iloc[-1]) - pd.Timestamp.today('UTC')"
   ]
  },
  {
   "cell_type": "code",
   "execution_count": null,
   "id": "8dc4d086-4f5e-44a5-bbf1-950fc9a5a398",
   "metadata": {},
   "outputs": [],
   "source": [
    "# Should fail b/c 90 days past current date? \"windowClose must be within 90 days of the current date\n",
    "# {'error': {'message': \"Cannot read property 'accessrequestId' of undefined\"}} had to re-login\n",
    "# NOTE: likely happening b/c no acquisitions that week!\n",
    "\n",
    "start = pd.to_datetime(df3.windowOpen.iloc[-1]) + datetime.timedelta(hours = 1)\n",
    "#end = pd.Timestamp.today('UTC') + pd.Timedelta('89D')\n",
    "end = start + datetime.timedelta(days = 6)\n",
    "\n",
    "r = submit_request(start_date=start, end_date=end)\n",
    "#time.sleep(10) #takes a little time to post"
   ]
  },
  {
   "cell_type": "code",
   "execution_count": null,
   "id": "c7a59685-bace-43aa-ad67-6f7d1f6597ee",
   "metadata": {},
   "outputs": [],
   "source": [
    "r.json()"
   ]
  },
  {
   "cell_type": "code",
   "execution_count": null,
   "id": "dee177ac-6165-49cc-a9fe-0e89287ea7db",
   "metadata": {},
   "outputs": [],
   "source": [
    "# Results retrieved via access request ID:\n",
    "ar_id4 = r.json()['properties']['accessrequestId']\n",
    "print(ar_id4)\n",
    "results = requests.get(\"https://api.capellaspace.com/ma/accesses/\" + ar_id4, headers=headers)"
   ]
  },
  {
   "cell_type": "code",
   "execution_count": null,
   "id": "738f5b68-d0f0-4d97-8647-652d2ecbe32c",
   "metadata": {},
   "outputs": [],
   "source": [
    "results.json()"
   ]
  },
  {
   "cell_type": "code",
   "execution_count": null,
   "id": "6196abaa-aa4b-46f2-b285-d43c9375aa72",
   "metadata": {},
   "outputs": [],
   "source": [
    "# View requests as table\n",
    "df4 = pd.json_normalize(results.json())\n",
    "df4.head()"
   ]
  },
  {
   "cell_type": "code",
   "execution_count": null,
   "id": "f793bc97-12e3-4dcc-b056-66c84eb4d768",
   "metadata": {},
   "outputs": [],
   "source": [
    "r.json()"
   ]
  },
  {
   "cell_type": "code",
   "execution_count": null,
   "id": "02ee363c-69c1-4fdf-8be5-305bab785dd5",
   "metadata": {},
   "outputs": [],
   "source": [
    "# No Capella-11 Acadia?\n",
    "access_df.spacecraftId.unique()"
   ]
  },
  {
   "cell_type": "code",
   "execution_count": null,
   "id": "76fac65d-4e36-4029-996e-19e6081661ff",
   "metadata": {},
   "outputs": [],
   "source": [
    "access_df.tileId.unique()"
   ]
  },
  {
   "cell_type": "code",
   "execution_count": null,
   "id": "d6b9e108-9e26-43d3-b8fe-9997a482881c",
   "metadata": {},
   "outputs": [],
   "source": [
    "r = requests.get(\"https://api.capellaspace.com/tiles/list/accessrequest/\" + ar_id, headers = headers)"
   ]
  },
  {
   "cell_type": "code",
   "execution_count": null,
   "id": "e131a291-3d84-4f6d-a63b-07236d66e791",
   "metadata": {},
   "outputs": [],
   "source": [
    "gff = gpd.GeoDataFrame.from_features(r.json(), crs='EPSG:4326')\n",
    "gff.explore()"
   ]
  },
  {
   "cell_type": "code",
   "execution_count": null,
   "id": "df2c54e7-e303-4201-a058-d2fccead34ec",
   "metadata": {},
   "outputs": [],
   "source": [
    "# For some reason, accessrequest tiles do no constrain by orbit...\n",
    "gff[gff.tileId.isin(access_df.tileId.unique())].explore()"
   ]
  },
  {
   "cell_type": "code",
   "execution_count": null,
   "id": "e120bff2-0001-4b9f-98de-19fc16efd2e8",
   "metadata": {},
   "outputs": [],
   "source": [
    "access_df_summary = access_df.groupby(['orbitalPlane',\n",
    "            'accessProperties.ascdsc', \n",
    "            'accessProperties.lookDirection'\n",
    "           ]).agg(passCount=('windowOpen', 'count')\n",
    "                 #  LookDirAzimuth=('LookDirectionAzimuth[degrees]', 'mean'),\n",
    "                 # LookDirAzimuthStd=('LookDirectionAzimuth[degrees]', 'std'),\n",
    "                 #  SatAzimuth = ('SatelliteAzimuth[degrees]', 'mean')\n",
    "                 ).reset_index().rename(columns = {'accessProperties.ascdsc': 'orbitState', 'accessProperties.lookDirection': 'lookDirection'})\n",
    "access_df_summary"
   ]
  },
  {
   "cell_type": "code",
   "execution_count": null,
   "id": "ee0409b9-abfd-45b5-971a-06fafe5976e7",
   "metadata": {},
   "outputs": [],
   "source": [
    "#access_df.sort_values(column='windowOpen')\n",
    "access_df.iloc[0]"
   ]
  },
  {
   "cell_type": "code",
   "execution_count": null,
   "id": "2c3f81b0-2068-49ba-a122-7f15f295a3fe",
   "metadata": {},
   "outputs": [],
   "source": [
    "# # For a given combination of orbitState and lookDirection, how do acquisitions vary over time?\n",
    "# Use STAC Names for anaylsis\n",
    "df = access_df.reset_index().rename(columns = {'accessProperties.ascdsc': 'orbit_state', \n",
    "                                               'accessProperties.lookDirection': 'observation_direction',\n",
    "                                               'accessProperties.offNadirMin': 'look_angle'}) # Match console\n",
    "tmp = df[(df.orbit_state == 'ascending') & (df.observation_direction == 'right')]"
   ]
  },
  {
   "cell_type": "code",
   "execution_count": null,
   "id": "6f5c1e9e-5a47-44df-ae68-ed5d06627ded",
   "metadata": {},
   "outputs": [],
   "source": [
    "# Not sure what is going on with azimuthClose\n",
    "#summarize = ['accessProperties.azimuthOpen', 'accessProperties.azimuthClose']\n",
    "#tmp[summarize].describe()\n",
    "tmp"
   ]
  },
  {
   "cell_type": "code",
   "execution_count": null,
   "id": "b62295e0-586d-489d-8367-5c5146144c70",
   "metadata": {},
   "outputs": [],
   "source": [
    "tmp['windowOpenLocal'] = pd.to_datetime(tmp.windowOpenLocal)\n",
    "tmp.plot(x='windowOpenLocal', y='look_angle', marker='o')\n"
   ]
  }
 ],
 "metadata": {
  "kernelspec": {
   "display_name": "Python [conda env:.local-capella]",
   "language": "python",
   "name": "conda-env-.local-capella-py"
  },
  "language_info": {
   "codemirror_mode": {
    "name": "ipython",
    "version": 3
   },
   "file_extension": ".py",
   "mimetype": "text/x-python",
   "name": "python",
   "nbconvert_exporter": "python",
   "pygments_lexer": "ipython3",
   "version": "3.11.4"
  }
 },
 "nbformat": 4,
 "nbformat_minor": 5
}
